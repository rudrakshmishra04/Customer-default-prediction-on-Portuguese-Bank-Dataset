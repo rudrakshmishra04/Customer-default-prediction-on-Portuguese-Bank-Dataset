{
 "cells": [
  {
   "cell_type": "code",
   "execution_count": 373,
   "id": "59c27292",
   "metadata": {},
   "outputs": [],
   "source": [
    "import numpy as np\n",
    "import pandas as pd \n",
    "import seaborn as sns\n",
    "import matplotlib.pyplot as plt\n",
    "%matplotlib inline"
   ]
  },
  {
   "cell_type": "code",
   "execution_count": 374,
   "id": "56491d3a",
   "metadata": {},
   "outputs": [
    {
     "data": {
      "text/html": [
       "<div>\n",
       "<style scoped>\n",
       "    .dataframe tbody tr th:only-of-type {\n",
       "        vertical-align: middle;\n",
       "    }\n",
       "\n",
       "    .dataframe tbody tr th {\n",
       "        vertical-align: top;\n",
       "    }\n",
       "\n",
       "    .dataframe thead th {\n",
       "        text-align: right;\n",
       "    }\n",
       "</style>\n",
       "<table border=\"1\" class=\"dataframe\">\n",
       "  <thead>\n",
       "    <tr style=\"text-align: right;\">\n",
       "      <th></th>\n",
       "      <th>customer_id</th>\n",
       "      <th>limit_bal</th>\n",
       "      <th>sex</th>\n",
       "      <th>education</th>\n",
       "      <th>marriage</th>\n",
       "      <th>age</th>\n",
       "      <th>pay_1</th>\n",
       "      <th>pay_2</th>\n",
       "      <th>pay_3</th>\n",
       "      <th>pay_4</th>\n",
       "      <th>...</th>\n",
       "      <th>bill_amt4</th>\n",
       "      <th>bill_amt5</th>\n",
       "      <th>bill_amt6</th>\n",
       "      <th>pay_amt1</th>\n",
       "      <th>pay_amt2</th>\n",
       "      <th>pay_amt3</th>\n",
       "      <th>pay_amt4</th>\n",
       "      <th>pay_amt5</th>\n",
       "      <th>pay_amt6</th>\n",
       "      <th>default_oct</th>\n",
       "    </tr>\n",
       "  </thead>\n",
       "  <tbody>\n",
       "    <tr>\n",
       "      <th>0</th>\n",
       "      <td>1</td>\n",
       "      <td>1500</td>\n",
       "      <td>2.0</td>\n",
       "      <td>1.0</td>\n",
       "      <td>2.0</td>\n",
       "      <td>23.0</td>\n",
       "      <td>0.0</td>\n",
       "      <td>0.0</td>\n",
       "      <td>0.0</td>\n",
       "      <td>2.0</td>\n",
       "      <td>...</td>\n",
       "      <td>1463</td>\n",
       "      <td>938.0</td>\n",
       "      <td>698.0</td>\n",
       "      <td>75</td>\n",
       "      <td>150</td>\n",
       "      <td>86</td>\n",
       "      <td>0</td>\n",
       "      <td>50.0</td>\n",
       "      <td>50.0</td>\n",
       "      <td>yes</td>\n",
       "    </tr>\n",
       "    <tr>\n",
       "      <th>1</th>\n",
       "      <td>2</td>\n",
       "      <td>8500</td>\n",
       "      <td>2.0</td>\n",
       "      <td>2.0</td>\n",
       "      <td>2.0</td>\n",
       "      <td>29.0</td>\n",
       "      <td>0.0</td>\n",
       "      <td>0.0</td>\n",
       "      <td>0.0</td>\n",
       "      <td>0.0</td>\n",
       "      <td>...</td>\n",
       "      <td>8364</td>\n",
       "      <td>8275.0</td>\n",
       "      <td>8425.0</td>\n",
       "      <td>300</td>\n",
       "      <td>400</td>\n",
       "      <td>315</td>\n",
       "      <td>300</td>\n",
       "      <td>325.0</td>\n",
       "      <td>305.0</td>\n",
       "      <td>no</td>\n",
       "    </tr>\n",
       "    <tr>\n",
       "      <th>2</th>\n",
       "      <td>3</td>\n",
       "      <td>1000</td>\n",
       "      <td>1.0</td>\n",
       "      <td>1.0</td>\n",
       "      <td>2.0</td>\n",
       "      <td>22.0</td>\n",
       "      <td>0.0</td>\n",
       "      <td>0.0</td>\n",
       "      <td>0.0</td>\n",
       "      <td>0.0</td>\n",
       "      <td>...</td>\n",
       "      <td>933</td>\n",
       "      <td>772.0</td>\n",
       "      <td>794.0</td>\n",
       "      <td>150</td>\n",
       "      <td>150</td>\n",
       "      <td>150</td>\n",
       "      <td>24</td>\n",
       "      <td>105.0</td>\n",
       "      <td>110.0</td>\n",
       "      <td>no</td>\n",
       "    </tr>\n",
       "    <tr>\n",
       "      <th>3</th>\n",
       "      <td>4</td>\n",
       "      <td>10500</td>\n",
       "      <td>1.0</td>\n",
       "      <td>1.0</td>\n",
       "      <td>1.0</td>\n",
       "      <td>31.0</td>\n",
       "      <td>0.0</td>\n",
       "      <td>0.0</td>\n",
       "      <td>0.0</td>\n",
       "      <td>0.0</td>\n",
       "      <td>...</td>\n",
       "      <td>7190</td>\n",
       "      <td>7229.0</td>\n",
       "      <td>7340.0</td>\n",
       "      <td>255</td>\n",
       "      <td>260</td>\n",
       "      <td>258</td>\n",
       "      <td>260</td>\n",
       "      <td>265.0</td>\n",
       "      <td>307.0</td>\n",
       "      <td>no</td>\n",
       "    </tr>\n",
       "    <tr>\n",
       "      <th>4</th>\n",
       "      <td>5</td>\n",
       "      <td>10500</td>\n",
       "      <td>2.0</td>\n",
       "      <td>2.0</td>\n",
       "      <td>1.0</td>\n",
       "      <td>44.0</td>\n",
       "      <td>0.0</td>\n",
       "      <td>0.0</td>\n",
       "      <td>0.0</td>\n",
       "      <td>0.0</td>\n",
       "      <td>...</td>\n",
       "      <td>3558</td>\n",
       "      <td>3592.0</td>\n",
       "      <td>3496.0</td>\n",
       "      <td>180</td>\n",
       "      <td>155</td>\n",
       "      <td>145</td>\n",
       "      <td>130</td>\n",
       "      <td>135.0</td>\n",
       "      <td>200.0</td>\n",
       "      <td>no</td>\n",
       "    </tr>\n",
       "  </tbody>\n",
       "</table>\n",
       "<p>5 rows × 25 columns</p>\n",
       "</div>"
      ],
      "text/plain": [
       "   customer_id  limit_bal  sex  education  marriage   age  pay_1  pay_2  \\\n",
       "0            1       1500  2.0        1.0       2.0  23.0    0.0    0.0   \n",
       "1            2       8500  2.0        2.0       2.0  29.0    0.0    0.0   \n",
       "2            3       1000  1.0        1.0       2.0  22.0    0.0    0.0   \n",
       "3            4      10500  1.0        1.0       1.0  31.0    0.0    0.0   \n",
       "4            5      10500  2.0        2.0       1.0  44.0    0.0    0.0   \n",
       "\n",
       "   pay_3  pay_4  ...  bill_amt4  bill_amt5  bill_amt6  pay_amt1  pay_amt2  \\\n",
       "0    0.0    2.0  ...       1463      938.0      698.0        75       150   \n",
       "1    0.0    0.0  ...       8364     8275.0     8425.0       300       400   \n",
       "2    0.0    0.0  ...        933      772.0      794.0       150       150   \n",
       "3    0.0    0.0  ...       7190     7229.0     7340.0       255       260   \n",
       "4    0.0    0.0  ...       3558     3592.0     3496.0       180       155   \n",
       "\n",
       "   pay_amt3  pay_amt4  pay_amt5  pay_amt6  default_oct  \n",
       "0        86         0      50.0      50.0          yes  \n",
       "1       315       300     325.0     305.0           no  \n",
       "2       150        24     105.0     110.0           no  \n",
       "3       258       260     265.0     307.0           no  \n",
       "4       145       130     135.0     200.0           no  \n",
       "\n",
       "[5 rows x 25 columns]"
      ]
     },
     "execution_count": 374,
     "metadata": {},
     "output_type": "execute_result"
    }
   ],
   "source": [
    "df = pd.read_csv('train.csv')\n",
    "df.head(5)\n",
    "#df.columns"
   ]
  },
  {
   "cell_type": "code",
   "execution_count": 375,
   "id": "971f1262",
   "metadata": {
    "scrolled": false
   },
   "outputs": [
    {
     "name": "stdout",
     "output_type": "stream",
     "text": [
      "<class 'pandas.core.frame.DataFrame'>\n",
      "RangeIndex: 24001 entries, 0 to 24000\n",
      "Data columns (total 25 columns):\n",
      " #   Column       Non-Null Count  Dtype  \n",
      "---  ------       --------------  -----  \n",
      " 0   customer_id  24001 non-null  int64  \n",
      " 1   limit_bal    24001 non-null  int64  \n",
      " 2   sex          24001 non-null  float64\n",
      " 3   education    24001 non-null  float64\n",
      " 4   marriage     24001 non-null  float64\n",
      " 5   age          24001 non-null  float64\n",
      " 6   pay_1        24001 non-null  float64\n",
      " 7   pay_2        24001 non-null  float64\n",
      " 8   pay_3        24001 non-null  float64\n",
      " 9   pay_4        24001 non-null  float64\n",
      " 10  pay_5        23819 non-null  float64\n",
      " 11  pay_6        22790 non-null  float64\n",
      " 12  bill_amt1    24001 non-null  int64  \n",
      " 13  bill_amt2    24001 non-null  int64  \n",
      " 14  bill_amt3    24001 non-null  int64  \n",
      " 15  bill_amt4    24001 non-null  int64  \n",
      " 16  bill_amt5    23819 non-null  float64\n",
      " 17  bill_amt6    22790 non-null  float64\n",
      " 18  pay_amt1     24001 non-null  int64  \n",
      " 19  pay_amt2     24001 non-null  int64  \n",
      " 20  pay_amt3     24001 non-null  int64  \n",
      " 21  pay_amt4     24001 non-null  int64  \n",
      " 22  pay_amt5     23819 non-null  float64\n",
      " 23  pay_amt6     22790 non-null  float64\n",
      " 24  default_oct  24001 non-null  object \n",
      "dtypes: float64(14), int64(10), object(1)\n",
      "memory usage: 4.6+ MB\n"
     ]
    }
   ],
   "source": [
    "df.info()"
   ]
  },
  {
   "cell_type": "code",
   "execution_count": 376,
   "id": "71e47d4c",
   "metadata": {
    "scrolled": false
   },
   "outputs": [
    {
     "data": {
      "text/html": [
       "<div>\n",
       "<style scoped>\n",
       "    .dataframe tbody tr th:only-of-type {\n",
       "        vertical-align: middle;\n",
       "    }\n",
       "\n",
       "    .dataframe tbody tr th {\n",
       "        vertical-align: top;\n",
       "    }\n",
       "\n",
       "    .dataframe thead th {\n",
       "        text-align: right;\n",
       "    }\n",
       "</style>\n",
       "<table border=\"1\" class=\"dataframe\">\n",
       "  <thead>\n",
       "    <tr style=\"text-align: right;\">\n",
       "      <th></th>\n",
       "      <th>pay_1</th>\n",
       "      <th>pay_2</th>\n",
       "      <th>pay_3</th>\n",
       "      <th>pay_4</th>\n",
       "      <th>pay_5</th>\n",
       "      <th>pay_6</th>\n",
       "    </tr>\n",
       "  </thead>\n",
       "  <tbody>\n",
       "    <tr>\n",
       "      <th>count</th>\n",
       "      <td>24001.000000</td>\n",
       "      <td>24001.000000</td>\n",
       "      <td>24001.000000</td>\n",
       "      <td>24001.000000</td>\n",
       "      <td>23819.000000</td>\n",
       "      <td>22790.000000</td>\n",
       "    </tr>\n",
       "    <tr>\n",
       "      <th>mean</th>\n",
       "      <td>-0.015874</td>\n",
       "      <td>-0.132119</td>\n",
       "      <td>-0.166201</td>\n",
       "      <td>-0.215824</td>\n",
       "      <td>-0.263403</td>\n",
       "      <td>-0.286529</td>\n",
       "    </tr>\n",
       "    <tr>\n",
       "      <th>std</th>\n",
       "      <td>1.123554</td>\n",
       "      <td>1.199237</td>\n",
       "      <td>1.196802</td>\n",
       "      <td>1.173350</td>\n",
       "      <td>1.135120</td>\n",
       "      <td>1.152145</td>\n",
       "    </tr>\n",
       "    <tr>\n",
       "      <th>min</th>\n",
       "      <td>-2.000000</td>\n",
       "      <td>-2.000000</td>\n",
       "      <td>-2.000000</td>\n",
       "      <td>-2.000000</td>\n",
       "      <td>-2.000000</td>\n",
       "      <td>-2.000000</td>\n",
       "    </tr>\n",
       "    <tr>\n",
       "      <th>25%</th>\n",
       "      <td>-1.000000</td>\n",
       "      <td>-1.000000</td>\n",
       "      <td>-1.000000</td>\n",
       "      <td>-1.000000</td>\n",
       "      <td>-1.000000</td>\n",
       "      <td>-1.000000</td>\n",
       "    </tr>\n",
       "    <tr>\n",
       "      <th>50%</th>\n",
       "      <td>0.000000</td>\n",
       "      <td>0.000000</td>\n",
       "      <td>0.000000</td>\n",
       "      <td>0.000000</td>\n",
       "      <td>0.000000</td>\n",
       "      <td>0.000000</td>\n",
       "    </tr>\n",
       "    <tr>\n",
       "      <th>75%</th>\n",
       "      <td>0.000000</td>\n",
       "      <td>0.000000</td>\n",
       "      <td>0.000000</td>\n",
       "      <td>0.000000</td>\n",
       "      <td>0.000000</td>\n",
       "      <td>0.000000</td>\n",
       "    </tr>\n",
       "    <tr>\n",
       "      <th>max</th>\n",
       "      <td>8.000000</td>\n",
       "      <td>8.000000</td>\n",
       "      <td>8.000000</td>\n",
       "      <td>8.000000</td>\n",
       "      <td>8.000000</td>\n",
       "      <td>8.000000</td>\n",
       "    </tr>\n",
       "  </tbody>\n",
       "</table>\n",
       "</div>"
      ],
      "text/plain": [
       "              pay_1         pay_2         pay_3         pay_4         pay_5  \\\n",
       "count  24001.000000  24001.000000  24001.000000  24001.000000  23819.000000   \n",
       "mean      -0.015874     -0.132119     -0.166201     -0.215824     -0.263403   \n",
       "std        1.123554      1.199237      1.196802      1.173350      1.135120   \n",
       "min       -2.000000     -2.000000     -2.000000     -2.000000     -2.000000   \n",
       "25%       -1.000000     -1.000000     -1.000000     -1.000000     -1.000000   \n",
       "50%        0.000000      0.000000      0.000000      0.000000      0.000000   \n",
       "75%        0.000000      0.000000      0.000000      0.000000      0.000000   \n",
       "max        8.000000      8.000000      8.000000      8.000000      8.000000   \n",
       "\n",
       "              pay_6  \n",
       "count  22790.000000  \n",
       "mean      -0.286529  \n",
       "std        1.152145  \n",
       "min       -2.000000  \n",
       "25%       -1.000000  \n",
       "50%        0.000000  \n",
       "75%        0.000000  \n",
       "max        8.000000  "
      ]
     },
     "execution_count": 376,
     "metadata": {},
     "output_type": "execute_result"
    }
   ],
   "source": [
    "df[['pay_1', 'pay_2', 'pay_3', 'pay_4', 'pay_5', 'pay_6']].describe()"
   ]
  },
  {
   "cell_type": "markdown",
   "id": "4f134730",
   "metadata": {},
   "source": [
    "### pay_1 to pay_6 have label -2 which is not documented. Since months of delay cannot be negative. We convert all negative values to 0."
   ]
  },
  {
   "cell_type": "code",
   "execution_count": 377,
   "id": "5a665207",
   "metadata": {},
   "outputs": [],
   "source": [
    "fil = (df.pay_1 == -2) | (df.pay_1 == -1) | (df.pay_1 == 0)\n",
    "df.loc[fil, 'pay_1'] = 0\n",
    "fil = (df.pay_2 == -2) | (df.pay_2 == -1) | (df.pay_2 == 0)\n",
    "df.loc[fil, 'pay_2'] = 0\n",
    "fil = (df.pay_3 == -2) | (df.pay_3 == -1) | (df.pay_3 == 0)\n",
    "df.loc[fil, 'pay_3'] = 0\n",
    "fil = (df.pay_4 == -2) | (df.pay_4 == -1) | (df.pay_4 == 0)\n",
    "df.loc[fil, 'pay_4'] = 0\n",
    "fil = (df.pay_5 == -2) | (df.pay_5 == -1) | (df.pay_5 == 0)\n",
    "df.loc[fil, 'pay_5'] = 0\n",
    "fil = (df.pay_6 == -2) | (df.pay_6 == -1) | (df.pay_6 == 0)\n",
    "df.loc[fil, 'pay_6'] = 0"
   ]
  },
  {
   "cell_type": "code",
   "execution_count": 378,
   "id": "f53ff04c",
   "metadata": {},
   "outputs": [
    {
     "data": {
      "text/html": [
       "<div>\n",
       "<style scoped>\n",
       "    .dataframe tbody tr th:only-of-type {\n",
       "        vertical-align: middle;\n",
       "    }\n",
       "\n",
       "    .dataframe tbody tr th {\n",
       "        vertical-align: top;\n",
       "    }\n",
       "\n",
       "    .dataframe thead th {\n",
       "        text-align: right;\n",
       "    }\n",
       "</style>\n",
       "<table border=\"1\" class=\"dataframe\">\n",
       "  <thead>\n",
       "    <tr style=\"text-align: right;\">\n",
       "      <th></th>\n",
       "      <th>sex</th>\n",
       "      <th>education</th>\n",
       "      <th>marriage</th>\n",
       "    </tr>\n",
       "  </thead>\n",
       "  <tbody>\n",
       "    <tr>\n",
       "      <th>count</th>\n",
       "      <td>24001.000000</td>\n",
       "      <td>24001.000000</td>\n",
       "      <td>24001.000000</td>\n",
       "    </tr>\n",
       "    <tr>\n",
       "      <th>mean</th>\n",
       "      <td>1.604058</td>\n",
       "      <td>1.856839</td>\n",
       "      <td>1.551644</td>\n",
       "    </tr>\n",
       "    <tr>\n",
       "      <th>std</th>\n",
       "      <td>0.489062</td>\n",
       "      <td>0.792152</td>\n",
       "      <td>0.522663</td>\n",
       "    </tr>\n",
       "    <tr>\n",
       "      <th>min</th>\n",
       "      <td>1.000000</td>\n",
       "      <td>0.000000</td>\n",
       "      <td>0.000000</td>\n",
       "    </tr>\n",
       "    <tr>\n",
       "      <th>25%</th>\n",
       "      <td>1.000000</td>\n",
       "      <td>1.000000</td>\n",
       "      <td>1.000000</td>\n",
       "    </tr>\n",
       "    <tr>\n",
       "      <th>50%</th>\n",
       "      <td>2.000000</td>\n",
       "      <td>2.000000</td>\n",
       "      <td>2.000000</td>\n",
       "    </tr>\n",
       "    <tr>\n",
       "      <th>75%</th>\n",
       "      <td>2.000000</td>\n",
       "      <td>2.000000</td>\n",
       "      <td>2.000000</td>\n",
       "    </tr>\n",
       "    <tr>\n",
       "      <th>max</th>\n",
       "      <td>2.000000</td>\n",
       "      <td>6.000000</td>\n",
       "      <td>3.000000</td>\n",
       "    </tr>\n",
       "  </tbody>\n",
       "</table>\n",
       "</div>"
      ],
      "text/plain": [
       "                sex     education      marriage\n",
       "count  24001.000000  24001.000000  24001.000000\n",
       "mean       1.604058      1.856839      1.551644\n",
       "std        0.489062      0.792152      0.522663\n",
       "min        1.000000      0.000000      0.000000\n",
       "25%        1.000000      1.000000      1.000000\n",
       "50%        2.000000      2.000000      2.000000\n",
       "75%        2.000000      2.000000      2.000000\n",
       "max        2.000000      6.000000      3.000000"
      ]
     },
     "execution_count": 378,
     "metadata": {},
     "output_type": "execute_result"
    }
   ],
   "source": [
    "df[['sex', 'education', 'marriage']].describe()"
   ]
  },
  {
   "cell_type": "markdown",
   "id": "1e6d76a2",
   "metadata": {},
   "source": [
    "### Again we have undocumented labels, since education and marriage have others as option we convert the undocument labels as others(eduction=4,marriage=3)"
   ]
  },
  {
   "cell_type": "code",
   "execution_count": 379,
   "id": "1155ee8d",
   "metadata": {
    "scrolled": true
   },
   "outputs": [
    {
     "data": {
      "text/plain": [
       "array([1., 2., 3., 4.])"
      ]
     },
     "execution_count": 379,
     "metadata": {},
     "output_type": "execute_result"
    }
   ],
   "source": [
    "update = (df.education == 5) | (df.education == 6) | (df.education == 0)\n",
    "df.loc[update, 'education'] = 4\n",
    "df['education'].unique()"
   ]
  },
  {
   "cell_type": "code",
   "execution_count": 380,
   "id": "78fd26bd",
   "metadata": {},
   "outputs": [
    {
     "data": {
      "text/plain": [
       "array([2., 1., 3.])"
      ]
     },
     "execution_count": 380,
     "metadata": {},
     "output_type": "execute_result"
    }
   ],
   "source": [
    "df.loc[df.marriage == 0, 'marriage'] = 3\n",
    "df['marriage'].unique()"
   ]
  },
  {
   "cell_type": "code",
   "execution_count": 381,
   "id": "cc35d144",
   "metadata": {},
   "outputs": [
    {
     "data": {
      "text/html": [
       "<div>\n",
       "<style scoped>\n",
       "    .dataframe tbody tr th:only-of-type {\n",
       "        vertical-align: middle;\n",
       "    }\n",
       "\n",
       "    .dataframe tbody tr th {\n",
       "        vertical-align: top;\n",
       "    }\n",
       "\n",
       "    .dataframe thead th {\n",
       "        text-align: right;\n",
       "    }\n",
       "</style>\n",
       "<table border=\"1\" class=\"dataframe\">\n",
       "  <thead>\n",
       "    <tr style=\"text-align: right;\">\n",
       "      <th></th>\n",
       "      <th>bill_amt2</th>\n",
       "      <th>bill_amt3</th>\n",
       "      <th>bill_amt4</th>\n",
       "      <th>bill_amt5</th>\n",
       "      <th>bill_amt6</th>\n",
       "    </tr>\n",
       "  </thead>\n",
       "  <tbody>\n",
       "    <tr>\n",
       "      <th>count</th>\n",
       "      <td>24001.000000</td>\n",
       "      <td>24001.000000</td>\n",
       "      <td>24001.000000</td>\n",
       "      <td>23819.000000</td>\n",
       "      <td>22790.000000</td>\n",
       "    </tr>\n",
       "    <tr>\n",
       "      <th>mean</th>\n",
       "      <td>2467.107037</td>\n",
       "      <td>2359.795592</td>\n",
       "      <td>2175.804383</td>\n",
       "      <td>2024.383559</td>\n",
       "      <td>1960.335981</td>\n",
       "    </tr>\n",
       "    <tr>\n",
       "      <th>std</th>\n",
       "      <td>3585.952168</td>\n",
       "      <td>3499.639871</td>\n",
       "      <td>3244.170936</td>\n",
       "      <td>3063.487512</td>\n",
       "      <td>3015.469078</td>\n",
       "    </tr>\n",
       "    <tr>\n",
       "      <th>min</th>\n",
       "      <td>-3488.000000</td>\n",
       "      <td>-3075.000000</td>\n",
       "      <td>-8500.000000</td>\n",
       "      <td>-4066.000000</td>\n",
       "      <td>-10452.000000</td>\n",
       "    </tr>\n",
       "    <tr>\n",
       "      <th>25%</th>\n",
       "      <td>147.000000</td>\n",
       "      <td>130.000000</td>\n",
       "      <td>116.000000</td>\n",
       "      <td>90.000000</td>\n",
       "      <td>62.000000</td>\n",
       "    </tr>\n",
       "    <tr>\n",
       "      <th>50%</th>\n",
       "      <td>1059.000000</td>\n",
       "      <td>1007.000000</td>\n",
       "      <td>953.000000</td>\n",
       "      <td>906.000000</td>\n",
       "      <td>855.500000</td>\n",
       "    </tr>\n",
       "    <tr>\n",
       "      <th>75%</th>\n",
       "      <td>3202.000000</td>\n",
       "      <td>3015.000000</td>\n",
       "      <td>2752.000000</td>\n",
       "      <td>2510.500000</td>\n",
       "      <td>2466.000000</td>\n",
       "    </tr>\n",
       "    <tr>\n",
       "      <th>max</th>\n",
       "      <td>49196.000000</td>\n",
       "      <td>83204.000000</td>\n",
       "      <td>44579.000000</td>\n",
       "      <td>46358.000000</td>\n",
       "      <td>48083.000000</td>\n",
       "    </tr>\n",
       "  </tbody>\n",
       "</table>\n",
       "</div>"
      ],
      "text/plain": [
       "          bill_amt2     bill_amt3     bill_amt4     bill_amt5     bill_amt6\n",
       "count  24001.000000  24001.000000  24001.000000  23819.000000  22790.000000\n",
       "mean    2467.107037   2359.795592   2175.804383   2024.383559   1960.335981\n",
       "std     3585.952168   3499.639871   3244.170936   3063.487512   3015.469078\n",
       "min    -3488.000000  -3075.000000  -8500.000000  -4066.000000 -10452.000000\n",
       "25%      147.000000    130.000000    116.000000     90.000000     62.000000\n",
       "50%     1059.000000   1007.000000    953.000000    906.000000    855.500000\n",
       "75%     3202.000000   3015.000000   2752.000000   2510.500000   2466.000000\n",
       "max    49196.000000  83204.000000  44579.000000  46358.000000  48083.000000"
      ]
     },
     "execution_count": 381,
     "metadata": {},
     "output_type": "execute_result"
    }
   ],
   "source": [
    "df[['bill_amt2', 'bill_amt3', 'bill_amt4', 'bill_amt5', 'bill_amt6']].describe()"
   ]
  },
  {
   "cell_type": "code",
   "execution_count": 382,
   "id": "286eb521",
   "metadata": {},
   "outputs": [
    {
     "data": {
      "text/html": [
       "<div>\n",
       "<style scoped>\n",
       "    .dataframe tbody tr th:only-of-type {\n",
       "        vertical-align: middle;\n",
       "    }\n",
       "\n",
       "    .dataframe tbody tr th {\n",
       "        vertical-align: top;\n",
       "    }\n",
       "\n",
       "    .dataframe thead th {\n",
       "        text-align: right;\n",
       "    }\n",
       "</style>\n",
       "<table border=\"1\" class=\"dataframe\">\n",
       "  <thead>\n",
       "    <tr style=\"text-align: right;\">\n",
       "      <th></th>\n",
       "      <th>pay_amt1</th>\n",
       "      <th>pay_amt2</th>\n",
       "      <th>pay_amt3</th>\n",
       "      <th>pay_amt4</th>\n",
       "      <th>pay_amt5</th>\n",
       "      <th>pay_amt6</th>\n",
       "    </tr>\n",
       "  </thead>\n",
       "  <tbody>\n",
       "    <tr>\n",
       "      <th>count</th>\n",
       "      <td>24001.000000</td>\n",
       "      <td>24001.000000</td>\n",
       "      <td>24001.000000</td>\n",
       "      <td>24001.000000</td>\n",
       "      <td>23819.000000</td>\n",
       "      <td>22790.000000</td>\n",
       "    </tr>\n",
       "    <tr>\n",
       "      <th>mean</th>\n",
       "      <td>281.079955</td>\n",
       "      <td>298.237073</td>\n",
       "      <td>263.109704</td>\n",
       "      <td>243.367943</td>\n",
       "      <td>238.731139</td>\n",
       "      <td>256.517069</td>\n",
       "    </tr>\n",
       "    <tr>\n",
       "      <th>std</th>\n",
       "      <td>846.819525</td>\n",
       "      <td>1215.481369</td>\n",
       "      <td>899.406651</td>\n",
       "      <td>782.138847</td>\n",
       "      <td>779.341974</td>\n",
       "      <td>861.106314</td>\n",
       "    </tr>\n",
       "    <tr>\n",
       "      <th>min</th>\n",
       "      <td>0.000000</td>\n",
       "      <td>0.000000</td>\n",
       "      <td>0.000000</td>\n",
       "      <td>0.000000</td>\n",
       "      <td>0.000000</td>\n",
       "      <td>0.000000</td>\n",
       "    </tr>\n",
       "    <tr>\n",
       "      <th>25%</th>\n",
       "      <td>49.000000</td>\n",
       "      <td>41.000000</td>\n",
       "      <td>19.000000</td>\n",
       "      <td>15.000000</td>\n",
       "      <td>12.000000</td>\n",
       "      <td>6.000000</td>\n",
       "    </tr>\n",
       "    <tr>\n",
       "      <th>50%</th>\n",
       "      <td>105.000000</td>\n",
       "      <td>100.000000</td>\n",
       "      <td>90.000000</td>\n",
       "      <td>75.000000</td>\n",
       "      <td>75.000000</td>\n",
       "      <td>75.000000</td>\n",
       "    </tr>\n",
       "    <tr>\n",
       "      <th>75%</th>\n",
       "      <td>250.000000</td>\n",
       "      <td>250.000000</td>\n",
       "      <td>227.000000</td>\n",
       "      <td>200.000000</td>\n",
       "      <td>200.000000</td>\n",
       "      <td>200.000000</td>\n",
       "    </tr>\n",
       "    <tr>\n",
       "      <th>max</th>\n",
       "      <td>43677.000000</td>\n",
       "      <td>84212.000000</td>\n",
       "      <td>44802.000000</td>\n",
       "      <td>31050.000000</td>\n",
       "      <td>21326.000000</td>\n",
       "      <td>26433.000000</td>\n",
       "    </tr>\n",
       "  </tbody>\n",
       "</table>\n",
       "</div>"
      ],
      "text/plain": [
       "           pay_amt1      pay_amt2      pay_amt3      pay_amt4      pay_amt5  \\\n",
       "count  24001.000000  24001.000000  24001.000000  24001.000000  23819.000000   \n",
       "mean     281.079955    298.237073    263.109704    243.367943    238.731139   \n",
       "std      846.819525   1215.481369    899.406651    782.138847    779.341974   \n",
       "min        0.000000      0.000000      0.000000      0.000000      0.000000   \n",
       "25%       49.000000     41.000000     19.000000     15.000000     12.000000   \n",
       "50%      105.000000    100.000000     90.000000     75.000000     75.000000   \n",
       "75%      250.000000    250.000000    227.000000    200.000000    200.000000   \n",
       "max    43677.000000  84212.000000  44802.000000  31050.000000  21326.000000   \n",
       "\n",
       "           pay_amt6  \n",
       "count  22790.000000  \n",
       "mean     256.517069  \n",
       "std      861.106314  \n",
       "min        0.000000  \n",
       "25%        6.000000  \n",
       "50%       75.000000  \n",
       "75%      200.000000  \n",
       "max    26433.000000  "
      ]
     },
     "execution_count": 382,
     "metadata": {},
     "output_type": "execute_result"
    }
   ],
   "source": [
    "df[['pay_amt1', 'pay_amt2', 'pay_amt3', 'pay_amt4', 'pay_amt5', 'pay_amt6']].describe()"
   ]
  },
  {
   "cell_type": "code",
   "execution_count": 383,
   "id": "3c482505",
   "metadata": {
    "scrolled": false
   },
   "outputs": [
    {
     "data": {
      "image/png": "[encoded data removed]",
      "text/plain": [
       "<Figure size 576x432 with 1 Axes>"
      ]
     },
     "metadata": {
      "needs_background": "light"
     },
     "output_type": "display_data"
    }
   ],
   "source": [
    "def boxplot_variation(feature1, feature2, feature3, width=16):\n",
    "    fig, ax1 = plt.subplots(ncols=1, figsize=(width,6))\n",
    "    s = sns.boxplot(ax = ax1, x=feature1, y=feature2, hue=feature3,\n",
    "                data=df, palette=\"PRGn\",showfliers=False)\n",
    "    s.set_xticklabels(s.get_xticklabels(),rotation=90)\n",
    "    plt.show();\n",
    "df.dropna(axis = 0, how ='any',inplace=True) \n",
    "boxplot_variation('marriage','age', 'sex',8)"
   ]
  },
  {
   "cell_type": "markdown",
   "id": "762bd018",
   "metadata": {},
   "source": [
    "#### males with others and married as marraige status have higher age"
   ]
  },
  {
   "cell_type": "code",
   "execution_count": 384,
   "id": "3350728e",
   "metadata": {},
   "outputs": [
    {
     "data": {
      "image/png": "[encoded data removed]",
      "text/plain": [
       "<Figure size 864x432 with 1 Axes>"
      ]
     },
     "metadata": {
      "needs_background": "light"
     },
     "output_type": "display_data"
    }
   ],
   "source": [
    "boxplot_variation('education','age', 'marriage',12)"
   ]
  },
  {
   "cell_type": "code",
   "execution_count": 385,
   "id": "f6895a0e",
   "metadata": {
    "scrolled": false
   },
   "outputs": [
    {
     "data": {
      "text/plain": [
       "<seaborn.axisgrid.FacetGrid at 0x28153914220>"
      ]
     },
     "execution_count": 385,
     "metadata": {},
     "output_type": "execute_result"
    },
    {
     "data": {
      "image/png": "[encoded data removed]",
      "text/plain": [
       "<Figure size 495.75x216 with 2 Axes>"
      ]
     },
     "metadata": {
      "needs_background": "light"
     },
     "output_type": "display_data"
    }
   ],
   "source": [
    "g = sns.FacetGrid(df, col='sex', hue='default_oct')\n",
    "g.map(plt.hist, 'age', alpha=0.4, bins=25)\n",
    "g.add_legend()"
   ]
  },
  {
   "cell_type": "code",
   "execution_count": 386,
   "id": "3cbe26d5",
   "metadata": {},
   "outputs": [
    {
     "data": {
      "text/plain": [
       "<seaborn.axisgrid.FacetGrid at 0x2815bb3b9a0>"
      ]
     },
     "execution_count": 386,
     "metadata": {},
     "output_type": "execute_result"
    },
    {
     "data": {
      "image/png": "[encoded data removed]",
      "text/plain": [
       "<Figure size 495.75x648 with 6 Axes>"
      ]
     },
     "metadata": {
      "needs_background": "light"
     },
     "output_type": "display_data"
    }
   ],
   "source": [
    "g = sns.FacetGrid(df, col='sex', row= \"marriage\", hue='default_oct')\n",
    "g.map(plt.hist, 'age', alpha=0.4, bins=25) \n",
    "g.add_legend()"
   ]
  },
  {
   "cell_type": "markdown",
   "id": "52ce2a00",
   "metadata": {},
   "source": [
    "# PREDICTIVE MODELS"
   ]
  },
  {
   "cell_type": "markdown",
   "id": "31c0aa15",
   "metadata": {},
   "source": [
    "## 1. XGBOOST"
   ]
  },
  {
   "cell_type": "markdown",
   "id": "87646526",
   "metadata": {},
   "source": [
    "#### defining features and labels"
   ]
  },
  {
   "cell_type": "code",
   "execution_count": 387,
   "id": "99f87719",
   "metadata": {},
   "outputs": [],
   "source": [
    "x=df.drop(['default_oct'], axis=1)\n",
    "y=df['default_oct']\n",
    "predictor=['customer_id', 'limit_bal', 'sex', 'education', 'marriage', 'age',\n",
    "       'pay_1', 'pay_2', 'pay_3', 'pay_4', 'pay_5', 'pay_6', 'bill_amt1',\n",
    "       'bill_amt2', 'bill_amt3', 'bill_amt4', 'bill_amt5', 'bill_amt6',\n",
    "       'pay_amt1', 'pay_amt2', 'pay_amt3', 'pay_amt4', 'pay_amt5', 'pay_amt6']\n",
    "test = pd.read_csv('test.csv')\n",
    "test.dropna(axis = 0, how ='any',inplace=True) "
   ]
  },
  {
   "cell_type": "markdown",
   "id": "47316ac7",
   "metadata": {},
   "source": [
    "### Running GridSearchCV to find the optimum hyperparameters for XGBOOST (might take few minutes while to run)"
   ]
  },
  {
   "cell_type": "code",
   "execution_count": 388,
   "id": "54f40366",
   "metadata": {},
   "outputs": [
    {
     "name": "stdout",
     "output_type": "stream",
     "text": [
      "Best: 0.817157 using {'learning_rate': 0.0001, 'n_estimators': 10}\n"
     ]
    }
   ],
   "source": [
    "from sklearn.datasets import make_classification\n",
    "from sklearn.model_selection import RepeatedStratifiedKFold\n",
    "from sklearn.model_selection import GridSearchCV\n",
    "from sklearn.ensemble import AdaBoostClassifier\n",
    "#define the model with default hyperparameters\n",
    "model = AdaBoostClassifier()\n",
    "#define the grid of values to search\n",
    "grid = dict()\n",
    "grid['n_estimators'] = [10, 50, 100, 500]\n",
    "grid['learning_rate'] = [0.0001, 0.001, 0.01, 0.1, 1.0]\n",
    "#define the evaluation procedure\n",
    "cv = RepeatedStratifiedKFold(n_splits=10, n_repeats=3, random_state=1)\n",
    "#define the grid search procedure\n",
    "grid_search = GridSearchCV(estimator=model, param_grid=grid, n_jobs=-1, cv=cv, scoring='accuracy')\n",
    "#execute the grid search\n",
    "grid_result = grid_search.fit(x, y)\n",
    "#summarize the best score and configuration\n",
    "print(\"Best: %f using %s\" % (grid_result.best_score_, grid_result.best_params_))"
   ]
  },
  {
   "cell_type": "code",
   "execution_count": 389,
   "id": "77edd03c",
   "metadata": {},
   "outputs": [
    {
     "data": {
      "text/plain": [
       "0.8171566476524792"
      ]
     },
     "execution_count": 389,
     "metadata": {},
     "output_type": "execute_result"
    }
   ],
   "source": [
    "s1=grid_result.best_score_\n",
    "s1"
   ]
  },
  {
   "cell_type": "markdown",
   "id": "c9590f95",
   "metadata": {},
   "source": [
    "### building xgboost model on hyperparameters values that give the best score(learning_rate=0.0001,n_estimators=10)"
   ]
  },
  {
   "cell_type": "code",
   "execution_count": 390,
   "id": "d781a4e3",
   "metadata": {},
   "outputs": [],
   "source": [
    "clf = AdaBoostClassifier(random_state=2018,\n",
    "                         algorithm='SAMME.R',\n",
    "                         learning_rate=0.0001,\n",
    "                             n_estimators=10)"
   ]
  },
  {
   "cell_type": "code",
   "execution_count": 391,
   "id": "a7c7f3ff",
   "metadata": {},
   "outputs": [
    {
     "data": {
      "text/plain": [
       "AdaBoostClassifier(learning_rate=0.0001, n_estimators=10, random_state=2018)"
      ]
     },
     "execution_count": 391,
     "metadata": {},
     "output_type": "execute_result"
    }
   ],
   "source": [
    "clf.fit(x,y.values)"
   ]
  },
  {
   "cell_type": "code",
   "execution_count": 392,
   "id": "db475133",
   "metadata": {},
   "outputs": [
    {
     "data": {
      "text/plain": [
       "array(['no', 'no', 'yes', ..., 'no', 'no', 'no'], dtype=object)"
      ]
     },
     "execution_count": 392,
     "metadata": {},
     "output_type": "execute_result"
    }
   ],
   "source": [
    "preds = clf.predict(test)\n",
    "preds"
   ]
  },
  {
   "cell_type": "markdown",
   "id": "f6f82ff1",
   "metadata": {},
   "source": [
    "# 2. RandomForest"
   ]
  },
  {
   "cell_type": "markdown",
   "id": "3cb7b971",
   "metadata": {},
   "source": [
    "### Running GridSearchCV to find the optimum hyperparameters for RandomForest (might take few minutes while to run)"
   ]
  },
  {
   "cell_type": "code",
   "execution_count": 393,
   "id": "57fab8c5",
   "metadata": {},
   "outputs": [
    {
     "name": "stdout",
     "output_type": "stream",
     "text": [
      "Fitting 2 folds for each of 100 candidates, totalling 200 fits\n"
     ]
    },
    {
     "data": {
      "text/plain": [
       "{'n_estimators': 500,\n",
       " 'min_samples_split': 5,\n",
       " 'min_samples_leaf': 4,\n",
       " 'max_depth': None,\n",
       " 'bootstrap': True}"
      ]
     },
     "execution_count": 393,
     "metadata": {},
     "output_type": "execute_result"
    }
   ],
   "source": [
    "from sklearn.model_selection import RandomizedSearchCV\n",
    "from sklearn.ensemble import RandomForestClassifier\n",
    "#Maximum number of levels in tree\n",
    "model = RandomForestClassifier()\n",
    "max_depth = [int(x) for x in np.linspace(10, 110, num = 11)]\n",
    "max_depth.append(None)\n",
    "#Minimum number of samples required to split a node\n",
    "min_samples_split = [2, 5, 10]\n",
    "#Minimum number of samples required at each leaf node\n",
    "min_samples_leaf = [1, 2, 4]\n",
    "#Method of selecting samples for training each tree\n",
    "bootstrap = [True, False]\n",
    "#Create the random grid\n",
    "random_grid = {'n_estimators': [10, 50, 100, 500],\n",
    "               'max_depth': max_depth,\n",
    "               'min_samples_split': min_samples_split,\n",
    "               'min_samples_leaf': min_samples_leaf,\n",
    "               'bootstrap': bootstrap}\n",
    "rf_random = RandomizedSearchCV(estimator = model, param_distributions = random_grid, n_iter = 100, cv = 2, verbose=2, random_state=2018, n_jobs = -1)\n",
    "#Fit the random search model\n",
    "rf_random.fit(x, y)\n",
    "rf_random.best_params_"
   ]
  },
  {
   "cell_type": "code",
   "execution_count": 394,
   "id": "2ceb4042",
   "metadata": {},
   "outputs": [
    {
     "data": {
      "text/plain": [
       "0.8131197893813076"
      ]
     },
     "execution_count": 394,
     "metadata": {},
     "output_type": "execute_result"
    }
   ],
   "source": [
    "s2=rf_random.best_score_\n",
    "s2"
   ]
  },
  {
   "cell_type": "markdown",
   "id": "a1dbfb18",
   "metadata": {},
   "source": [
    "### building Random Forest model on hyperparameters values that give the best score"
   ]
  },
  {
   "cell_type": "code",
   "execution_count": 395,
   "id": "71e18f60",
   "metadata": {},
   "outputs": [],
   "source": [
    "clf = RandomForestClassifier(n_jobs=4, \n",
    "                             n_estimators= 500,\n",
    "                             min_samples_split= 5,\n",
    "                             min_samples_leaf= 4,\n",
    "                             max_depth= None,\n",
    "                             bootstrap= True,\n",
    "                             random_state=2018,\n",
    "                             criterion='gini',\n",
    "                             verbose=False)"
   ]
  },
  {
   "cell_type": "code",
   "execution_count": 396,
   "id": "61b3d8f4",
   "metadata": {},
   "outputs": [
    {
     "data": {
      "text/plain": [
       "RandomForestClassifier(max_depth=60, min_samples_leaf=2, min_samples_split=10,\n",
       "                       n_jobs=4, random_state=2018, verbose=False)"
      ]
     },
     "execution_count": 396,
     "metadata": {},
     "output_type": "execute_result"
    }
   ],
   "source": [
    "clf.fit(x,y.values)"
   ]
  },
  {
   "cell_type": "markdown",
   "id": "2370bd32",
   "metadata": {},
   "source": [
    "# 3. Decision Trees"
   ]
  },
  {
   "cell_type": "markdown",
   "id": "e016fca8",
   "metadata": {},
   "source": [
    "### Running GridSearchCV to find the optimum hyperparameters for Decision Trees (might take few minutes while to run)"
   ]
  },
  {
   "cell_type": "code",
   "execution_count": 397,
   "id": "69a51e9e",
   "metadata": {},
   "outputs": [
    {
     "name": "stdout",
     "output_type": "stream",
     "text": [
      "Fitting 2 folds for each of 648 candidates, totalling 1296 fits\n"
     ]
    },
    {
     "name": "stderr",
     "output_type": "stream",
     "text": [
      "C:\\Users\\rudra\\AppData\\Roaming\\Python\\Python39\\site-packages\\sklearn\\model_selection\\_validation.py:372: FitFailedWarning: \n",
      "144 fits failed out of a total of 1296.\n",
      "The score on these train-test partitions for these parameters will be set to nan.\n",
      "If these failures are not expected, you can try to debug them by setting error_score='raise'.\n",
      "\n",
      "Below are more details about the failures:\n",
      "--------------------------------------------------------------------------------\n",
      "144 fits failed with the following error:\n",
      "Traceback (most recent call last):\n",
      "  File \"C:\\Users\\rudra\\AppData\\Roaming\\Python\\Python39\\site-packages\\sklearn\\model_selection\\_validation.py\", line 681, in _fit_and_score\n",
      "    estimator.fit(X_train, y_train, **fit_params)\n",
      "  File \"C:\\Users\\rudra\\AppData\\Roaming\\Python\\Python39\\site-packages\\sklearn\\tree\\_classes.py\", line 937, in fit\n",
      "    super().fit(\n",
      "  File \"C:\\Users\\rudra\\AppData\\Roaming\\Python\\Python39\\site-packages\\sklearn\\tree\\_classes.py\", line 250, in fit\n",
      "    raise ValueError(\n",
      "ValueError: min_samples_split must be an integer greater than 1 or a float in (0.0, 1.0]; got the integer 1\n",
      "\n",
      "  warnings.warn(some_fits_failed_message, FitFailedWarning)\n",
      "C:\\Users\\rudra\\AppData\\Roaming\\Python\\Python39\\site-packages\\sklearn\\model_selection\\_search.py:969: UserWarning: One or more of the test scores are non-finite: [       nan 0.81715665 0.81715665 0.81715665 0.81715665 0.81715665\n",
      " 0.81715665 0.81715665 0.81715665        nan 0.81715665 0.81715665\n",
      " 0.81715665 0.81715665 0.81715665 0.81715665 0.81715665 0.81715665\n",
      "        nan 0.81715665 0.81715665 0.81715665 0.81715665 0.81715665\n",
      " 0.81715665 0.81715665 0.81715665        nan 0.81715665 0.81715665\n",
      " 0.81715665 0.81715665 0.81715665 0.81715665 0.81715665 0.81715665\n",
      "        nan 0.81654234 0.81654234 0.81654234 0.81654234 0.81654234\n",
      " 0.81654234 0.81654234 0.81654234        nan 0.81654234 0.81654234\n",
      " 0.81654234 0.81654234 0.81654234 0.81654234 0.81654234 0.81654234\n",
      "        nan 0.81654234 0.81654234 0.81654234 0.81654234 0.81654234\n",
      " 0.81654234 0.81654234 0.81654234        nan 0.81654234 0.81654234\n",
      " 0.81654234 0.81654234 0.81654234 0.81654234 0.81654234 0.81654234\n",
      "        nan 0.81799035 0.81799035 0.81799035 0.81799035 0.81799035\n",
      " 0.81799035 0.81799035 0.81799035        nan 0.81799035 0.81799035\n",
      " 0.81799035 0.81799035 0.81799035 0.81799035 0.81799035 0.81799035\n",
      "        nan 0.81799035 0.81799035 0.81799035 0.81799035 0.81799035\n",
      " 0.81799035 0.81799035 0.81799035        nan 0.81799035 0.81799035\n",
      " 0.81799035 0.81799035 0.81799035 0.81799035 0.81799035 0.81799035\n",
      "        nan 0.8087319  0.8087319  0.8087319  0.8087319  0.8087319\n",
      " 0.8087319  0.8087319  0.8087319         nan 0.8087319  0.8087319\n",
      " 0.8087319  0.8087319  0.8087319  0.8087319  0.8087319  0.8087319\n",
      "        nan 0.8087319  0.8087319  0.8087319  0.8087319  0.8087319\n",
      " 0.8087319  0.8087319  0.8087319         nan 0.8087319  0.8087319\n",
      " 0.8087319  0.8087319  0.8087319  0.8087319  0.8087319  0.8087319\n",
      "        nan 0.80715226 0.80710838 0.80732778 0.80732778 0.8072839\n",
      " 0.80710838 0.80710838 0.8072839         nan 0.8072839  0.8072839\n",
      " 0.8072839  0.8072839  0.80710838 0.80710838 0.80710838 0.8072839\n",
      "        nan 0.80719614 0.80719614 0.80719614 0.80719614 0.80719614\n",
      " 0.80719614 0.80719614 0.80719614        nan 0.80680123 0.80680123\n",
      " 0.80680123 0.80680123 0.80680123 0.80680123 0.80680123 0.80680123\n",
      "        nan 0.79135586 0.78929355 0.78946907 0.78929355 0.78946907\n",
      " 0.78946907 0.78964458 0.78946907        nan 0.78946907 0.78964458\n",
      " 0.78929355 0.78929355 0.78929355 0.78946907 0.78946907 0.78964458\n",
      "        nan 0.78951294 0.78946907 0.78946907 0.78968846 0.7896007\n",
      " 0.78951294 0.78973234 0.78951294        nan 0.79017113 0.78999561\n",
      " 0.79017113 0.79017113 0.78999561 0.78999561 0.78999561 0.78999561\n",
      "        nan 0.78920579 0.78894252 0.78867925 0.78889864 0.788767\n",
      " 0.78872312 0.78903028 0.7889864         nan 0.78885476 0.78907416\n",
      " 0.7889864  0.78929355 0.78903028 0.78889864 0.78907416 0.78889864\n",
      "        nan 0.7896007  0.7898201  0.78986398 0.78964458 0.7896007\n",
      " 0.78955682 0.78986398 0.78964458        nan 0.78745064 0.7879333\n",
      " 0.78745064 0.7879333  0.78740676 0.7879333  0.78745064 0.7879333\n",
      "        nan 0.77455024 0.77349715 0.77437473 0.77481351 0.77683194\n",
      " 0.78152699 0.7794208  0.7785871         nan 0.78240456 0.78262396\n",
      " 0.78266784 0.78275559 0.78560772 0.78758227 0.7906538  0.78723124\n",
      "        nan 0.78016674 0.78007898 0.78007898 0.78021062 0.7800351\n",
      " 0.78499342 0.78468627 0.78490566        nan 0.78407196 0.78297499\n",
      " 0.78372093 0.78328214 0.78437911 0.78363317 0.78363317 0.78380869\n",
      "        nan 0.7515577  0.76441422 0.76353664 0.76410706 0.75019746\n",
      " 0.77007459 0.77073278 0.77117157        nan 0.77661255 0.77292672\n",
      " 0.77402369 0.77402369 0.77384818 0.77823607 0.78056165 0.78021062\n",
      "        nan 0.77253181 0.7721369  0.77204914 0.77240018 0.77222466\n",
      " 0.77718297 0.77735849 0.77722685        nan 0.77902589 0.77981571\n",
      " 0.77972795 0.77994735 0.77977183 0.77937692 0.7794208  0.77972795\n",
      "        nan 0.79587538 0.79587538 0.79587538 0.79587538 0.79587538\n",
      " 0.79587538 0.79587538 0.79587538        nan 0.79587538 0.79587538\n",
      " 0.79587538 0.79587538 0.79587538 0.79587538 0.79587538 0.79587538\n",
      "        nan 0.79587538 0.79587538 0.79587538 0.79587538 0.79587538\n",
      " 0.79587538 0.79587538 0.79587538        nan 0.79587538 0.79587538\n",
      " 0.79587538 0.79587538 0.79587538 0.79587538 0.79587538 0.79587538\n",
      "        nan 0.81715665 0.81715665 0.81715665 0.81715665 0.81715665\n",
      " 0.81715665 0.81715665 0.81715665        nan 0.81715665 0.81715665\n",
      " 0.81715665 0.81715665 0.81715665 0.81715665 0.81715665 0.81715665\n",
      "        nan 0.81715665 0.81715665 0.81715665 0.81715665 0.81715665\n",
      " 0.81715665 0.81715665 0.81715665        nan 0.81715665 0.81715665\n",
      " 0.81715665 0.81715665 0.81715665 0.81715665 0.81715665 0.81715665\n",
      "        nan 0.81759544 0.81759544 0.81759544 0.81759544 0.81759544\n",
      " 0.81759544 0.81759544 0.81759544        nan 0.81759544 0.81759544\n",
      " 0.81759544 0.81759544 0.81759544 0.81759544 0.81759544 0.81759544\n",
      "        nan 0.81759544 0.81759544 0.81759544 0.81759544 0.81759544\n",
      " 0.81759544 0.81759544 0.81759544        nan 0.81759544 0.81759544\n",
      " 0.81759544 0.81759544 0.81759544 0.81759544 0.81759544 0.81759544\n",
      "        nan 0.80724002 0.80724002 0.80724002 0.80724002 0.80719614\n",
      " 0.80719614 0.80719614 0.80719614        nan 0.80719614 0.80719614\n",
      " 0.80719614 0.80719614 0.80719614 0.80719614 0.80719614 0.80719614\n",
      "        nan 0.80719614 0.80719614 0.80719614 0.80719614 0.80719614\n",
      " 0.80719614 0.80719614 0.80719614        nan 0.80719614 0.80719614\n",
      " 0.80719614 0.80719614 0.80719614 0.80719614 0.80719614 0.80719614\n",
      "        nan 0.80184291 0.80184291 0.80184291 0.80171128 0.80179903\n",
      " 0.80188679 0.80179903 0.80184291        nan 0.8016674  0.80171128\n",
      " 0.80179903 0.80179903 0.80171128 0.80184291 0.80179903 0.80197455\n",
      "        nan 0.8016674  0.80184291 0.8016674  0.80171128 0.80179903\n",
      " 0.8016674  0.80184291 0.8016674         nan 0.80206231 0.80206231\n",
      " 0.80223782 0.80206231 0.80206231 0.80223782 0.80223782 0.80206231\n",
      "        nan 0.80351031 0.80263273 0.80285213 0.80276437 0.80285213\n",
      " 0.80280825 0.80276437 0.80289601        nan 0.80276437 0.80263273\n",
      " 0.80276437 0.80289601 0.80258885 0.80280825 0.80267661 0.80263273\n",
      "        nan 0.80276437 0.80280825 0.80267661 0.80254498 0.80285213\n",
      " 0.80267661 0.80263273 0.80263273        nan 0.80258885 0.80223782\n",
      " 0.80236946 0.80236946 0.80258885 0.80236946 0.80245722 0.80223782\n",
      "        nan 0.80386134 0.80241334 0.80052655 0.80157964 0.80241334\n",
      " 0.8016674  0.80136025 0.80052655        nan 0.80390522 0.80096534\n",
      " 0.80149188 0.80381746 0.801448   0.80109697 0.80109697 0.80052655\n",
      "        nan 0.80074594 0.80039491 0.80070206 0.80052655 0.80057043\n",
      " 0.80065818 0.80057043 0.80074594        nan 0.79986836 0.8\n",
      " 0.80021939 0.80021939 0.80026327 0.80008776 0.80035103 0.80030715\n",
      "        nan 0.7977183  0.79727951 0.79517332 0.79670908 0.79390083\n",
      " 0.79806933 0.79701624 0.7937692         nan 0.79842036 0.79776218\n",
      " 0.79495393 0.79824484 0.79885915 0.79859588 0.79763054 0.79741115\n",
      "        nan 0.79745502 0.79798157 0.79784993 0.79793769 0.79504168\n",
      " 0.79477841 0.79464677 0.79745502        nan 0.79442738 0.79719175\n",
      " 0.7974989  0.79719175 0.79736727 0.79447126 0.79719175 0.79732339\n",
      "        nan 0.7132953  0.71522598 0.7118473  0.71189118 0.7132953\n",
      " 0.71189118 0.71755156 0.71491882        nan 0.71654234 0.71465555\n",
      " 0.71689337 0.71658622 0.71728828 0.7135147  0.71627907 0.71570864\n",
      "        nan 0.71676174 0.7160158  0.714129   0.71680562 0.7166301\n",
      " 0.71632295 0.71676174 0.71645459        nan 0.71500658 0.71526986\n",
      " 0.71522598 0.71281264 0.71281264 0.71294427 0.71294427 0.71535761]\n",
      "  warnings.warn(\n"
     ]
    },
    {
     "data": {
      "text/plain": [
       "{'criterion': 'gini',\n",
       " 'max_depth': 3,\n",
       " 'min_samples_leaf': 1,\n",
       " 'min_samples_split': 2}"
      ]
     },
     "execution_count": 397,
     "metadata": {},
     "output_type": "execute_result"
    }
   ],
   "source": [
    "from sklearn.tree import DecisionTreeClassifier\n",
    "decision_tree=DecisionTreeClassifier()\n",
    "param_dict= {\n",
    "\"criterion\": ['gini', 'entropy'],\n",
    "\"max_depth\": range (1,10),\n",
    "\"min_samples_split\":range (1,10),\n",
    "\"min_samples_leaf\":range (1,5)\n",
    "}\n",
    "grid = GridSearchCV (decision_tree, param_grid=param_dict, cv=2, verbose=1,n_jobs=-1)\n",
    "grid.fit(x,y)\n",
    "grid.best_params_"
   ]
  },
  {
   "cell_type": "code",
   "execution_count": 398,
   "id": "7e6a79b8",
   "metadata": {},
   "outputs": [
    {
     "data": {
      "text/plain": [
       "0.8179903466432645"
      ]
     },
     "execution_count": 398,
     "metadata": {},
     "output_type": "execute_result"
    }
   ],
   "source": [
    "s3=grid.best_score_\n",
    "s3"
   ]
  },
  {
   "cell_type": "markdown",
   "id": "460fcbcb",
   "metadata": {},
   "source": [
    "### building Decision Tree model on hyperparameters values that give the best score"
   ]
  },
  {
   "cell_type": "code",
   "execution_count": 399,
   "id": "5aa57cd1",
   "metadata": {},
   "outputs": [],
   "source": [
    "dt = DecisionTreeClassifier(criterion = 'gini',  max_depth= 3,\n",
    " min_samples_leaf= 1,\n",
    " min_samples_split=2,random_state=2018)\n",
    "dt.fit(x, y)\n",
    "pred_f= dt.predict(test)"
   ]
  },
  {
   "cell_type": "markdown",
   "id": "d97261d8",
   "metadata": {},
   "source": [
    "# 4. Bagging Classifier (Decision Tree as  base estimator)"
   ]
  },
  {
   "cell_type": "markdown",
   "id": "e2b7b103",
   "metadata": {},
   "source": [
    "### Running GridSearchCV to find the optimum hyperparameters for bagging with DT (might take few minutes while to run)"
   ]
  },
  {
   "cell_type": "code",
   "execution_count": 400,
   "id": "85e5bbd0",
   "metadata": {},
   "outputs": [
    {
     "name": "stdout",
     "output_type": "stream",
     "text": [
      "Fitting 2 folds for each of 16 candidates, totalling 32 fits\n"
     ]
    },
    {
     "data": {
      "text/plain": [
       "{'bootstrap_features': True,\n",
       " 'max_features': 0.7,\n",
       " 'max_samples': 0.5,\n",
       " 'n_estimators': 100}"
      ]
     },
     "execution_count": 400,
     "metadata": {},
     "output_type": "execute_result"
    }
   ],
   "source": [
    "from sklearn.ensemble import BaggingClassifier\n",
    "bc_params = {\n",
    "          'bootstrap_features': [False, True],\n",
    "          'max_features': [0.5, 0.7],\n",
    "          'max_samples': [0.5, 0.7],\n",
    "          'n_estimators': [50, 100],\n",
    "}\n",
    "bcg = GridSearchCV(BaggingClassifier(DecisionTreeClassifier()), bc_params, cv=2, verbose=1)\n",
    "bcg.fit(x,y)\n",
    "bcg.best_params_"
   ]
  },
  {
   "cell_type": "code",
   "execution_count": 401,
   "id": "54ab4e71",
   "metadata": {},
   "outputs": [
    {
     "data": {
      "text/plain": [
       "0.8047827994734533"
      ]
     },
     "execution_count": 401,
     "metadata": {},
     "output_type": "execute_result"
    }
   ],
   "source": [
    "s4=bcg.best_score_\n",
    "s4"
   ]
  },
  {
   "cell_type": "markdown",
   "id": "4f922ee0",
   "metadata": {},
   "source": [
    "### building Bagging Classifier model on hyperparameters values that give the best score"
   ]
  },
  {
   "cell_type": "code",
   "execution_count": 402,
   "id": "4e6b32b1",
   "metadata": {},
   "outputs": [],
   "source": [
    "bc = BaggingClassifier(base_estimator=dt, \n",
    "          bootstrap_features= True,\n",
    "          max_features= 0.7,\n",
    "          max_samples= 0.5,\n",
    "          n_estimators= 100,random_state=2018)\n",
    "bc = bc.fit(x, y)\n",
    "pred = bc.predict(test)"
   ]
  },
  {
   "cell_type": "markdown",
   "id": "d84f12b8",
   "metadata": {},
   "source": [
    "## Out of the 4 predictive models Decision Trees gives the best score. Therefore I chose to save its predicted values in predictions csv"
   ]
  },
  {
   "cell_type": "code",
   "execution_count": 403,
   "id": "476273fb",
   "metadata": {
    "scrolled": true
   },
   "outputs": [
    {
     "data": {
      "text/html": [
       "<div>\n",
       "<style scoped>\n",
       "    .dataframe tbody tr th:only-of-type {\n",
       "        vertical-align: middle;\n",
       "    }\n",
       "\n",
       "    .dataframe tbody tr th {\n",
       "        vertical-align: top;\n",
       "    }\n",
       "\n",
       "    .dataframe thead th {\n",
       "        text-align: right;\n",
       "    }\n",
       "</style>\n",
       "<table border=\"1\" class=\"dataframe\">\n",
       "  <thead>\n",
       "    <tr style=\"text-align: right;\">\n",
       "      <th></th>\n",
       "      <th>score</th>\n",
       "    </tr>\n",
       "  </thead>\n",
       "  <tbody>\n",
       "    <tr>\n",
       "      <th>ADAboost</th>\n",
       "      <td>0.817157</td>\n",
       "    </tr>\n",
       "    <tr>\n",
       "      <th>RandomForest</th>\n",
       "      <td>0.813120</td>\n",
       "    </tr>\n",
       "    <tr>\n",
       "      <th>Decision Trees</th>\n",
       "      <td>0.817990</td>\n",
       "    </tr>\n",
       "    <tr>\n",
       "      <th>Bagging_DT</th>\n",
       "      <td>0.804783</td>\n",
       "    </tr>\n",
       "  </tbody>\n",
       "</table>\n",
       "</div>"
      ],
      "text/plain": [
       "                   score\n",
       "ADAboost        0.817157\n",
       "RandomForest    0.813120\n",
       "Decision Trees  0.817990\n",
       "Bagging_DT      0.804783"
      ]
     },
     "execution_count": 403,
     "metadata": {},
     "output_type": "execute_result"
    }
   ],
   "source": [
    "models = pd.DataFrame({'score': [s1,s2,s3,s4]}, \n",
    "                        index=[\"ADAboost\",\"RandomForest\",\"Decision Trees\",\"Bagging_DT\"])\n",
    "models"
   ]
  },
  {
   "cell_type": "code",
   "execution_count": 404,
   "id": "17e6762a",
   "metadata": {
    "scrolled": false
   },
   "outputs": [
    {
     "data": {
      "text/html": [
       "<div>\n",
       "<style scoped>\n",
       "    .dataframe tbody tr th:only-of-type {\n",
       "        vertical-align: middle;\n",
       "    }\n",
       "\n",
       "    .dataframe tbody tr th {\n",
       "        vertical-align: top;\n",
       "    }\n",
       "\n",
       "    .dataframe thead th {\n",
       "        text-align: right;\n",
       "    }\n",
       "</style>\n",
       "<table border=\"1\" class=\"dataframe\">\n",
       "  <thead>\n",
       "    <tr style=\"text-align: right;\">\n",
       "      <th></th>\n",
       "      <th>customer_id</th>\n",
       "      <th>limit_bal</th>\n",
       "      <th>sex</th>\n",
       "      <th>education</th>\n",
       "      <th>marriage</th>\n",
       "      <th>age</th>\n",
       "      <th>pay_1</th>\n",
       "      <th>pay_2</th>\n",
       "      <th>pay_3</th>\n",
       "      <th>pay_4</th>\n",
       "      <th>...</th>\n",
       "      <th>bill_amt4</th>\n",
       "      <th>bill_amt5</th>\n",
       "      <th>bill_amt6</th>\n",
       "      <th>pay_amt1</th>\n",
       "      <th>pay_amt2</th>\n",
       "      <th>pay_amt3</th>\n",
       "      <th>pay_amt4</th>\n",
       "      <th>pay_amt5</th>\n",
       "      <th>pay_amt6</th>\n",
       "      <th>pr_y</th>\n",
       "    </tr>\n",
       "  </thead>\n",
       "  <tbody>\n",
       "    <tr>\n",
       "      <th>0</th>\n",
       "      <td>24002</td>\n",
       "      <td>10500</td>\n",
       "      <td>1.0</td>\n",
       "      <td>2.0</td>\n",
       "      <td>2.0</td>\n",
       "      <td>34.0</td>\n",
       "      <td>0.0</td>\n",
       "      <td>0.0</td>\n",
       "      <td>0.0</td>\n",
       "      <td>0.0</td>\n",
       "      <td>...</td>\n",
       "      <td>1741</td>\n",
       "      <td>881.0</td>\n",
       "      <td>120.0</td>\n",
       "      <td>99</td>\n",
       "      <td>1053</td>\n",
       "      <td>724</td>\n",
       "      <td>884</td>\n",
       "      <td>120.0</td>\n",
       "      <td>24.0</td>\n",
       "      <td>no</td>\n",
       "    </tr>\n",
       "    <tr>\n",
       "      <th>1</th>\n",
       "      <td>24003</td>\n",
       "      <td>27500</td>\n",
       "      <td>2.0</td>\n",
       "      <td>5.0</td>\n",
       "      <td>2.0</td>\n",
       "      <td>52.0</td>\n",
       "      <td>-2.0</td>\n",
       "      <td>-2.0</td>\n",
       "      <td>-2.0</td>\n",
       "      <td>-2.0</td>\n",
       "      <td>...</td>\n",
       "      <td>987</td>\n",
       "      <td>23.0</td>\n",
       "      <td>409.0</td>\n",
       "      <td>300</td>\n",
       "      <td>300</td>\n",
       "      <td>987</td>\n",
       "      <td>23</td>\n",
       "      <td>409.0</td>\n",
       "      <td>0.0</td>\n",
       "      <td>no</td>\n",
       "    </tr>\n",
       "    <tr>\n",
       "      <th>2</th>\n",
       "      <td>24004</td>\n",
       "      <td>27500</td>\n",
       "      <td>2.0</td>\n",
       "      <td>2.0</td>\n",
       "      <td>1.0</td>\n",
       "      <td>32.0</td>\n",
       "      <td>2.0</td>\n",
       "      <td>0.0</td>\n",
       "      <td>0.0</td>\n",
       "      <td>0.0</td>\n",
       "      <td>...</td>\n",
       "      <td>27401</td>\n",
       "      <td>26533.0</td>\n",
       "      <td>7754.0</td>\n",
       "      <td>1054</td>\n",
       "      <td>1143</td>\n",
       "      <td>8381</td>\n",
       "      <td>700</td>\n",
       "      <td>215.0</td>\n",
       "      <td>7903.0</td>\n",
       "      <td>no</td>\n",
       "    </tr>\n",
       "    <tr>\n",
       "      <th>3</th>\n",
       "      <td>24005</td>\n",
       "      <td>9000</td>\n",
       "      <td>2.0</td>\n",
       "      <td>2.0</td>\n",
       "      <td>1.0</td>\n",
       "      <td>32.0</td>\n",
       "      <td>1.0</td>\n",
       "      <td>2.0</td>\n",
       "      <td>2.0</td>\n",
       "      <td>2.0</td>\n",
       "      <td>...</td>\n",
       "      <td>858</td>\n",
       "      <td>936.0</td>\n",
       "      <td>1169.0</td>\n",
       "      <td>0</td>\n",
       "      <td>150</td>\n",
       "      <td>0</td>\n",
       "      <td>100</td>\n",
       "      <td>250.0</td>\n",
       "      <td>100.0</td>\n",
       "      <td>no</td>\n",
       "    </tr>\n",
       "    <tr>\n",
       "      <th>4</th>\n",
       "      <td>24006</td>\n",
       "      <td>500</td>\n",
       "      <td>1.0</td>\n",
       "      <td>3.0</td>\n",
       "      <td>2.0</td>\n",
       "      <td>42.0</td>\n",
       "      <td>1.0</td>\n",
       "      <td>2.0</td>\n",
       "      <td>2.0</td>\n",
       "      <td>2.0</td>\n",
       "      <td>...</td>\n",
       "      <td>294</td>\n",
       "      <td>220.0</td>\n",
       "      <td>259.0</td>\n",
       "      <td>0</td>\n",
       "      <td>129</td>\n",
       "      <td>0</td>\n",
       "      <td>50</td>\n",
       "      <td>50.0</td>\n",
       "      <td>17.0</td>\n",
       "      <td>no</td>\n",
       "    </tr>\n",
       "    <tr>\n",
       "      <th>...</th>\n",
       "      <td>...</td>\n",
       "      <td>...</td>\n",
       "      <td>...</td>\n",
       "      <td>...</td>\n",
       "      <td>...</td>\n",
       "      <td>...</td>\n",
       "      <td>...</td>\n",
       "      <td>...</td>\n",
       "      <td>...</td>\n",
       "      <td>...</td>\n",
       "      <td>...</td>\n",
       "      <td>...</td>\n",
       "      <td>...</td>\n",
       "      <td>...</td>\n",
       "      <td>...</td>\n",
       "      <td>...</td>\n",
       "      <td>...</td>\n",
       "      <td>...</td>\n",
       "      <td>...</td>\n",
       "      <td>...</td>\n",
       "      <td>...</td>\n",
       "    </tr>\n",
       "    <tr>\n",
       "      <th>5994</th>\n",
       "      <td>29996</td>\n",
       "      <td>17500</td>\n",
       "      <td>1.0</td>\n",
       "      <td>1.0</td>\n",
       "      <td>1.0</td>\n",
       "      <td>42.0</td>\n",
       "      <td>2.0</td>\n",
       "      <td>-1.0</td>\n",
       "      <td>-1.0</td>\n",
       "      <td>-1.0</td>\n",
       "      <td>...</td>\n",
       "      <td>33</td>\n",
       "      <td>33.0</td>\n",
       "      <td>1536.0</td>\n",
       "      <td>33</td>\n",
       "      <td>33</td>\n",
       "      <td>33</td>\n",
       "      <td>33</td>\n",
       "      <td>1536.0</td>\n",
       "      <td>41.0</td>\n",
       "      <td>no</td>\n",
       "    </tr>\n",
       "    <tr>\n",
       "      <th>5995</th>\n",
       "      <td>29997</td>\n",
       "      <td>10000</td>\n",
       "      <td>2.0</td>\n",
       "      <td>2.0</td>\n",
       "      <td>1.0</td>\n",
       "      <td>28.0</td>\n",
       "      <td>0.0</td>\n",
       "      <td>0.0</td>\n",
       "      <td>0.0</td>\n",
       "      <td>0.0</td>\n",
       "      <td>...</td>\n",
       "      <td>4852</td>\n",
       "      <td>5177.0</td>\n",
       "      <td>181.0</td>\n",
       "      <td>250</td>\n",
       "      <td>100</td>\n",
       "      <td>4450</td>\n",
       "      <td>325</td>\n",
       "      <td>4.0</td>\n",
       "      <td>75.0</td>\n",
       "      <td>no</td>\n",
       "    </tr>\n",
       "    <tr>\n",
       "      <th>5996</th>\n",
       "      <td>29998</td>\n",
       "      <td>3000</td>\n",
       "      <td>2.0</td>\n",
       "      <td>2.0</td>\n",
       "      <td>1.0</td>\n",
       "      <td>29.0</td>\n",
       "      <td>0.0</td>\n",
       "      <td>0.0</td>\n",
       "      <td>0.0</td>\n",
       "      <td>0.0</td>\n",
       "      <td>...</td>\n",
       "      <td>2551</td>\n",
       "      <td>1210.0</td>\n",
       "      <td>264.0</td>\n",
       "      <td>109</td>\n",
       "      <td>114</td>\n",
       "      <td>71</td>\n",
       "      <td>8</td>\n",
       "      <td>21.0</td>\n",
       "      <td>1467.0</td>\n",
       "      <td>no</td>\n",
       "    </tr>\n",
       "    <tr>\n",
       "      <th>5997</th>\n",
       "      <td>29999</td>\n",
       "      <td>1500</td>\n",
       "      <td>1.0</td>\n",
       "      <td>3.0</td>\n",
       "      <td>2.0</td>\n",
       "      <td>37.0</td>\n",
       "      <td>1.0</td>\n",
       "      <td>2.0</td>\n",
       "      <td>2.0</td>\n",
       "      <td>0.0</td>\n",
       "      <td>...</td>\n",
       "      <td>1231</td>\n",
       "      <td>1246.0</td>\n",
       "      <td>1263.0</td>\n",
       "      <td>69</td>\n",
       "      <td>0</td>\n",
       "      <td>84</td>\n",
       "      <td>50</td>\n",
       "      <td>75.0</td>\n",
       "      <td>25.0</td>\n",
       "      <td>no</td>\n",
       "    </tr>\n",
       "    <tr>\n",
       "      <th>5998</th>\n",
       "      <td>30000</td>\n",
       "      <td>1000</td>\n",
       "      <td>2.0</td>\n",
       "      <td>2.0</td>\n",
       "      <td>2.0</td>\n",
       "      <td>46.0</td>\n",
       "      <td>0.0</td>\n",
       "      <td>0.0</td>\n",
       "      <td>0.0</td>\n",
       "      <td>0.0</td>\n",
       "      <td>...</td>\n",
       "      <td>937</td>\n",
       "      <td>956.0</td>\n",
       "      <td>984.0</td>\n",
       "      <td>63</td>\n",
       "      <td>80</td>\n",
       "      <td>65</td>\n",
       "      <td>34</td>\n",
       "      <td>43.0</td>\n",
       "      <td>43.0</td>\n",
       "      <td>no</td>\n",
       "    </tr>\n",
       "  </tbody>\n",
       "</table>\n",
       "<p>5709 rows × 25 columns</p>\n",
       "</div>"
      ],
      "text/plain": [
       "      customer_id  limit_bal  sex  education  marriage   age  pay_1  pay_2  \\\n",
       "0           24002      10500  1.0        2.0       2.0  34.0    0.0    0.0   \n",
       "1           24003      27500  2.0        5.0       2.0  52.0   -2.0   -2.0   \n",
       "2           24004      27500  2.0        2.0       1.0  32.0    2.0    0.0   \n",
       "3           24005       9000  2.0        2.0       1.0  32.0    1.0    2.0   \n",
       "4           24006        500  1.0        3.0       2.0  42.0    1.0    2.0   \n",
       "...           ...        ...  ...        ...       ...   ...    ...    ...   \n",
       "5994        29996      17500  1.0        1.0       1.0  42.0    2.0   -1.0   \n",
       "5995        29997      10000  2.0        2.0       1.0  28.0    0.0    0.0   \n",
       "5996        29998       3000  2.0        2.0       1.0  29.0    0.0    0.0   \n",
       "5997        29999       1500  1.0        3.0       2.0  37.0    1.0    2.0   \n",
       "5998        30000       1000  2.0        2.0       2.0  46.0    0.0    0.0   \n",
       "\n",
       "      pay_3  pay_4  ...  bill_amt4  bill_amt5  bill_amt6  pay_amt1  pay_amt2  \\\n",
       "0       0.0    0.0  ...       1741      881.0      120.0        99      1053   \n",
       "1      -2.0   -2.0  ...        987       23.0      409.0       300       300   \n",
       "2       0.0    0.0  ...      27401    26533.0     7754.0      1054      1143   \n",
       "3       2.0    2.0  ...        858      936.0     1169.0         0       150   \n",
       "4       2.0    2.0  ...        294      220.0      259.0         0       129   \n",
       "...     ...    ...  ...        ...        ...        ...       ...       ...   \n",
       "5994   -1.0   -1.0  ...         33       33.0     1536.0        33        33   \n",
       "5995    0.0    0.0  ...       4852     5177.0      181.0       250       100   \n",
       "5996    0.0    0.0  ...       2551     1210.0      264.0       109       114   \n",
       "5997    2.0    0.0  ...       1231     1246.0     1263.0        69         0   \n",
       "5998    0.0    0.0  ...        937      956.0      984.0        63        80   \n",
       "\n",
       "      pay_amt3  pay_amt4  pay_amt5  pay_amt6  pr_y  \n",
       "0          724       884     120.0      24.0    no  \n",
       "1          987        23     409.0       0.0    no  \n",
       "2         8381       700     215.0    7903.0    no  \n",
       "3            0       100     250.0     100.0    no  \n",
       "4            0        50      50.0      17.0    no  \n",
       "...        ...       ...       ...       ...   ...  \n",
       "5994        33        33    1536.0      41.0    no  \n",
       "5995      4450       325       4.0      75.0    no  \n",
       "5996        71         8      21.0    1467.0    no  \n",
       "5997        84        50      75.0      25.0    no  \n",
       "5998        65        34      43.0      43.0    no  \n",
       "\n",
       "[5709 rows x 25 columns]"
      ]
     },
     "execution_count": 404,
     "metadata": {},
     "output_type": "execute_result"
    }
   ],
   "source": [
    "test['pr_y'] = pred"
   ]
  },
  {
   "cell_type": "code",
   "execution_count": 405,
   "id": "6fcbff01",
   "metadata": {},
   "outputs": [],
   "source": [
    "useful_columns = ['customer_id','pr_y']\n",
    "test.loc[:,useful_columns].to_csv('Rudraksh_predictions.csv',index=False)"
   ]
  }
 ],
 "metadata": {
  "kernelspec": {
   "display_name": "Python 3 (ipykernel)",
   "language": "python",
   "name": "python3"
  },
  "language_info": {
   "codemirror_mode": {
    "name": "ipython",
    "version": 3
   },
   "file_extension": ".py",
   "mimetype": "text/x-python",
   "name": "python",
   "nbconvert_exporter": "python",
   "pygments_lexer": "ipython3",
   "version": "3.9.7"
  }
 },
 "nbformat": 4,
 "nbformat_minor": 5
}
